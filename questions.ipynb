{
 "cells": [
  {
   "attachments": {},
   "cell_type": "markdown",
   "metadata": {},
   "source": [
    "1 wap to print fibonacci series\n",
    "2 0 1 1 2 3 5 8  13"
   ]
  },
  {
   "cell_type": "code",
   "execution_count": 4,
   "metadata": {},
   "outputs": [
    {
     "name": "stdout",
     "output_type": "stream",
     "text": [
      "1,2,3,5,8,13,21,34,55,89,"
     ]
    }
   ],
   "source": [
    "a = 0  \n",
    "b = 1\n",
    "for i in range(10):\n",
    "    c = a + b\n",
    "    a = b \n",
    "    b = c \n",
    "    print(c , end=',')"
   ]
  },
  {
   "cell_type": "code",
   "execution_count": 7,
   "metadata": {},
   "outputs": [
    {
     "name": "stdout",
     "output_type": "stream",
     "text": [
      "[0, 1, 1, 2, 3, 5, 8, 13, 21, 34, 55, 89]\n"
     ]
    }
   ],
   "source": [
    "fib = [0,1]\n",
    "for i in range(10):\n",
    "    fib.append(fib[-1]+ fib[-2])\n",
    "print(fib)\n"
   ]
  },
  {
   "cell_type": "code",
   "execution_count": 8,
   "metadata": {},
   "outputs": [
    {
     "name": "stdout",
     "output_type": "stream",
     "text": [
      "949\n",
      "777\n",
      "1\n",
      "13\n",
      "73.0\n"
     ]
    }
   ],
   "source": [
    "x =[ 1,2,5,7,4,8,4,3,8,5,66,777,59]\n",
    "print(sum(x))\n",
    "print(max(x))\n",
    "print(min(x))\n",
    "print(len(x))\n",
    "print(sum(x)/len(x))"
   ]
  },
  {
   "cell_type": "code",
   "execution_count": 15,
   "metadata": {},
   "outputs": [
    {
     "name": "stdout",
     "output_type": "stream",
     "text": [
      "red|green|blue|yellow|white|"
     ]
    }
   ],
   "source": [
    "colors = ['red','green','blue','yellow','black','white','brown',]\n",
    "for color in colors:\n",
    "    if 'e' in color:\n",
    "        print(color, end ='|')"
   ]
  },
  {
   "cell_type": "code",
   "execution_count": 20,
   "metadata": {},
   "outputs": [
    {
     "name": "stdout",
     "output_type": "stream",
     "text": [
      "['red', 'green', 'blue', 'yellow', 'white']\n"
     ]
    }
   ],
   "source": [
    "colors2 = []\n",
    "for color in colors:\n",
    "    if 'e' in color:\n",
    "        colors2.append(color)\n",
    "print(colors2)"
   ]
  },
  {
   "cell_type": "code",
   "execution_count": 23,
   "metadata": {},
   "outputs": [
    {
     "data": {
      "text/plain": [
       "False"
      ]
     },
     "execution_count": 23,
     "metadata": {},
     "output_type": "execute_result"
    }
   ],
   "source": [
    "x = [1,2,3]\n",
    "y = [1,2,3]\n",
    "x is y\n"
   ]
  },
  {
   "cell_type": "code",
   "execution_count": 25,
   "metadata": {},
   "outputs": [],
   "source": []
  },
  {
   "cell_type": "code",
   "execution_count": null,
   "metadata": {},
   "outputs": [],
   "source": []
  }
 ],
 "metadata": {
  "kernelspec": {
   "display_name": "Python 3",
   "language": "python",
   "name": "python3"
  },
  "language_info": {
   "codemirror_mode": {
    "name": "ipython",
    "version": 3
   },
   "file_extension": ".py",
   "mimetype": "text/x-python",
   "name": "python",
   "nbconvert_exporter": "python",
   "pygments_lexer": "ipython3",
   "version": "3.10.11"
  },
  "orig_nbformat": 4
 },
 "nbformat": 4,
 "nbformat_minor": 2
}
