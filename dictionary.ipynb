{
 "cells": [
  {
   "cell_type": "code",
   "execution_count": 278,
   "metadata": {},
   "outputs": [],
   "source": [
    "students = {\n",
    "    'maulik' : 'mu',\n",
    "    'aman' : 'NPGU',\n",
    "    'abhay' : 'NPGU',\n",
    "    'mazahir' : 'AU',\n",
    "    'imadul' : 'IU'\n",
    "}"
   ]
  },
  {
   "cell_type": "code",
   "execution_count": 279,
   "metadata": {},
   "outputs": [
    {
     "data": {
      "text/plain": [
       "'IU'"
      ]
     },
     "execution_count": 279,
     "metadata": {},
     "output_type": "execute_result"
    }
   ],
   "source": [
    "students['imadul']"
   ]
  },
  {
   "cell_type": "code",
   "execution_count": 280,
   "metadata": {},
   "outputs": [],
   "source": [
    "students = {\n",
    "    'maulik' : {\n",
    "        'college':'MU',\n",
    "        'type':'offline'\n",
    "    },\n",
    "    'aman' : 'NPGU',\n",
    "    'abhay' : 'NPGU',\n",
    "    'mazahir' :{\n",
    "        'college':'AU',\n",
    "        'type':'offline'\n",
    "    },\n",
    "    'imadul' : {\n",
    "        'college':'IU',\n",
    "        'type':'offline'\n",
    "    }\n",
    "}"
   ]
  },
  {
   "cell_type": "code",
   "execution_count": 281,
   "metadata": {},
   "outputs": [
    {
     "data": {
      "text/plain": [
       "{'college': 'IU', 'type': 'offline'}"
      ]
     },
     "execution_count": 281,
     "metadata": {},
     "output_type": "execute_result"
    }
   ],
   "source": [
    "students['imadul']"
   ]
  },
  {
   "cell_type": "code",
   "execution_count": 282,
   "metadata": {},
   "outputs": [],
   "source": [
    "from pprint import pp       #pretty print"
   ]
  },
  {
   "cell_type": "code",
   "execution_count": 283,
   "metadata": {},
   "outputs": [
    {
     "name": "stdout",
     "output_type": "stream",
     "text": [
      "{'maulik': {'college': 'MU', 'type': 'offline'},\n",
      " 'aman': 'NPGU',\n",
      " 'abhay': 'NPGU',\n",
      " 'mazahir': {'college': 'AU', 'type': 'offline'},\n",
      " 'imadul': {'college': 'IU', 'type': 'offline'}}\n"
     ]
    }
   ],
   "source": [
    "pp (students)"
   ]
  },
  {
   "cell_type": "code",
   "execution_count": 284,
   "metadata": {},
   "outputs": [
    {
     "data": {
      "text/plain": [
       "'offline'"
      ]
     },
     "execution_count": 284,
     "metadata": {},
     "output_type": "execute_result"
    }
   ],
   "source": [
    "students['imadul']['type']"
   ]
  },
  {
   "cell_type": "code",
   "execution_count": 285,
   "metadata": {},
   "outputs": [],
   "source": [
    "#add students \n",
    "students['shreya']={\n",
    "    'college':'BBDU',\n",
    "    'type':'online'\n",
    "}"
   ]
  },
  {
   "cell_type": "code",
   "execution_count": 286,
   "metadata": {},
   "outputs": [
    {
     "name": "stdout",
     "output_type": "stream",
     "text": [
      "{'maulik': {'college': 'MU', 'type': 'offline'},\n",
      " 'aman': 'NPGU',\n",
      " 'abhay': 'NPGU',\n",
      " 'mazahir': {'college': 'AU', 'type': 'offline'},\n",
      " 'imadul': {'college': 'IU', 'type': 'offline'},\n",
      " 'shreya': {'college': 'BBDU', 'type': 'online'}}\n"
     ]
    }
   ],
   "source": [
    "pp (students)"
   ]
  },
  {
   "cell_type": "code",
   "execution_count": 287,
   "metadata": {},
   "outputs": [
    {
     "name": "stdout",
     "output_type": "stream",
     "text": [
      "{'maulik': {'college': 'MU', 'type': 'offline'},\n",
      " 'aman': 'NPGU',\n",
      " 'abhay': 'NPGU',\n",
      " 'mazahir': {'college': 'AU', 'type': 'flexi'},\n",
      " 'imadul': {'college': 'IU', 'type': 'offline'},\n",
      " 'shreya': {'college': 'BBDU', 'type': 'online'}}\n"
     ]
    }
   ],
   "source": [
    "students['mazahir']['type']='flexi'\n",
    "pp (students)"
   ]
  },
  {
   "cell_type": "code",
   "execution_count": 288,
   "metadata": {},
   "outputs": [
    {
     "name": "stdout",
     "output_type": "stream",
     "text": [
      "{'maulik': {'college': 'MU', 'type': 'offline'},\n",
      " 'abhay': 'NPGU',\n",
      " 'mazahir': {'college': 'AU', 'type': 'flexi'},\n",
      " 'imadul': {'college': 'IU', 'type': 'offline'},\n",
      " 'shreya': {'college': 'BBDU', 'type': 'online'}}\n"
     ]
    }
   ],
   "source": [
    "students.pop('aman')\n",
    "pp(students)"
   ]
  },
  {
   "cell_type": "code",
   "execution_count": 289,
   "metadata": {},
   "outputs": [
    {
     "name": "stdout",
     "output_type": "stream",
     "text": [
      "{'maulik': {'college': 'MU', 'type': 'offline'},\n",
      " 'abhay': 'NPGU',\n",
      " 'mazahir': {'college': 'AU', 'type': 'flexi'},\n",
      " 'imadul': {'college': 'IU', 'type': 'offline', 'age': '21'},\n",
      " 'shreya': {'college': 'BBDU', 'type': 'online'}}\n"
     ]
    }
   ],
   "source": [
    "students['imadul']['age']='21'\n",
    "pp(students)"
   ]
  },
  {
   "cell_type": "code",
   "execution_count": 290,
   "metadata": {},
   "outputs": [],
   "source": [
    "report = {\n",
    "    'class10':{\n",
    "        'rohan':{\n",
    "            'english':90,\n",
    "            'maths': 56,\n",
    "            'hindi':85,\n",
    "            'science':95,\n",
    "            'social':89,\n",
    "            'p.e':90,\n",
    "        },\n",
    "        'mohit':{\n",
    "            'english':50,\n",
    "            'maths':55,\n",
    "            'hindi':45,\n",
    "            'science':55,\n",
    "            'social':55,\n",
    "            'p.e':78,\n",
    "        },\n",
    "        'shreya':{\n",
    "            'english':90,\n",
    "            'maths': 56,\n",
    "            'hindi':55,\n",
    "            'science':45,\n",
    "            'social':79,\n",
    "            'p.e':67,\n",
    "\n",
    "        },\n",
    "        'mazahir':{\n",
    "            'english':99,\n",
    "            'maths': 96,\n",
    "            'hindi':75,\n",
    "            'science':75,\n",
    "            'social':89,\n",
    "            'p.e':70,\n",
    "        },\n",
    "        'imadul':{\n",
    "            'english':90,\n",
    "            'maths': 56,\n",
    "            'hindi':85,\n",
    "            'science':95,\n",
    "            'social':89,\n",
    "            'p.e':90,\n",
    "        },\n",
    "        'yesh tiwari':{\n",
    "            'english':78,\n",
    "            'maths': 46,\n",
    "            'hindi':89,\n",
    "            'science':55,\n",
    "            'social':79,\n",
    "            'p.e':80,\n",
    "        }\n",
    "    }\n",
    "}"
   ]
  },
  {
   "cell_type": "code",
   "execution_count": 291,
   "metadata": {},
   "outputs": [
    {
     "name": "stdout",
     "output_type": "stream",
     "text": [
      "{'class10': {'rohan': {'english': 90,\n",
      "                       'maths': 56,\n",
      "                       'hindi': 85,\n",
      "                       'science': 95,\n",
      "                       'social': 89,\n",
      "                       'p.e': 90},\n",
      "             'mohit': {'english': 50,\n",
      "                       'maths': 55,\n",
      "                       'hindi': 45,\n",
      "                       'science': 55,\n",
      "                       'social': 55,\n",
      "                       'p.e': 78},\n",
      "             'shreya': {'english': 90,\n",
      "                        'maths': 56,\n",
      "                        'hindi': 55,\n",
      "                        'science': 45,\n",
      "                        'social': 79,\n",
      "                        'p.e': 67},\n",
      "             'mazahir': {'english': 99,\n",
      "                         'maths': 96,\n",
      "                         'hindi': 75,\n",
      "                         'science': 75,\n",
      "                         'social': 89,\n",
      "                         'p.e': 70},\n",
      "             'imadul': {'english': 90,\n",
      "                        'maths': 56,\n",
      "                        'hindi': 85,\n",
      "                        'science': 95,\n",
      "                        'social': 89,\n",
      "                        'p.e': 90},\n",
      "             'yesh tiwari': {'english': 78,\n",
      "                             'maths': 46,\n",
      "                             'hindi': 89,\n",
      "                             'science': 55,\n",
      "                             'social': 79,\n",
      "                             'p.e': 80}}}\n"
     ]
    }
   ],
   "source": [
    "pp(report)"
   ]
  },
  {
   "cell_type": "code",
   "execution_count": 292,
   "metadata": {},
   "outputs": [
    {
     "name": "stdout",
     "output_type": "stream",
     "text": [
      "dict_keys(['class10'])\n"
     ]
    }
   ],
   "source": [
    "print(report.keys())"
   ]
  },
  {
   "cell_type": "code",
   "execution_count": 293,
   "metadata": {},
   "outputs": [
    {
     "data": {
      "text/plain": [
       "dict_keys(['rohan', 'mohit', 'shreya', 'mazahir', 'imadul', 'yesh tiwari'])"
      ]
     },
     "execution_count": 293,
     "metadata": {},
     "output_type": "execute_result"
    }
   ],
   "source": [
    "report['class10'].keys()"
   ]
  },
  {
   "cell_type": "code",
   "execution_count": 294,
   "metadata": {},
   "outputs": [
    {
     "data": {
      "text/plain": [
       "dict_keys(['english', 'maths', 'hindi', 'science', 'social', 'p.e'])"
      ]
     },
     "execution_count": 294,
     "metadata": {},
     "output_type": "execute_result"
    }
   ],
   "source": [
    "report['class10']['imadul'].keys()"
   ]
  },
  {
   "cell_type": "code",
   "execution_count": 295,
   "metadata": {},
   "outputs": [
    {
     "data": {
      "text/plain": [
       "56"
      ]
     },
     "execution_count": 295,
     "metadata": {},
     "output_type": "execute_result"
    }
   ],
   "source": [
    "report['class10']['imadul']['maths']"
   ]
  },
  {
   "cell_type": "code",
   "execution_count": 296,
   "metadata": {},
   "outputs": [
    {
     "data": {
      "text/plain": [
       "dict_values([{'rohan': {'english': 90, 'maths': 56, 'hindi': 85, 'science': 95, 'social': 89, 'p.e': 90}, 'mohit': {'english': 50, 'maths': 55, 'hindi': 45, 'science': 55, 'social': 55, 'p.e': 78}, 'shreya': {'english': 90, 'maths': 56, 'hindi': 55, 'science': 45, 'social': 79, 'p.e': 67}, 'mazahir': {'english': 99, 'maths': 96, 'hindi': 75, 'science': 75, 'social': 89, 'p.e': 70}, 'imadul': {'english': 90, 'maths': 56, 'hindi': 85, 'science': 95, 'social': 89, 'p.e': 90}, 'yesh tiwari': {'english': 78, 'maths': 46, 'hindi': 89, 'science': 55, 'social': 79, 'p.e': 80}}])"
      ]
     },
     "execution_count": 296,
     "metadata": {},
     "output_type": "execute_result"
    }
   ],
   "source": [
    "report.values()"
   ]
  },
  {
   "cell_type": "code",
   "execution_count": 297,
   "metadata": {},
   "outputs": [
    {
     "data": {
      "text/plain": [
       "dict_values([90, 56, 85, 95, 89, 90])"
      ]
     },
     "execution_count": 297,
     "metadata": {},
     "output_type": "execute_result"
    }
   ],
   "source": [
    "report['class10']['imadul'].values()"
   ]
  },
  {
   "cell_type": "code",
   "execution_count": 298,
   "metadata": {},
   "outputs": [
    {
     "name": "stdout",
     "output_type": "stream",
     "text": [
      "dict_values([{'english': 90, 'maths': 56, 'hindi': 85, 'science': 95, 'social': 89, 'p.e': 90}, {'english': 50, 'maths': 55, 'hindi': 45, 'science': 55, 'social': 55, 'p.e': 78}, {'english': 90, 'maths': 56, 'hindi': 55, 'science': 45, 'social': 79, 'p.e': 67}, {'english': 99, 'maths': 96, 'hindi': 75, 'science': 75, 'social': 89, 'p.e': 70}, {'english': 90, 'maths': 56, 'hindi': 85, 'science': 95, 'social': 89, 'p.e': 90}, {'english': 78, 'maths': 46, 'hindi': 89, 'science': 55, 'social': 79, 'p.e': 80}])\n"
     ]
    }
   ],
   "source": [
    "print(report['class10'].values())"
   ]
  },
  {
   "cell_type": "code",
   "execution_count": 299,
   "metadata": {},
   "outputs": [],
   "source": [
    "movies =  {\n",
    "    '3 idiots': 'a story about 3 idiots frnds',\n",
    "    'lunchbox': 'a story about a lunchbox',\n",
    "    'dungle': 'a story about a dungle',\n",
    "    'pk': 'a story about a pk',\n",
    "    'taare zameen par': 'a story about a dyslexic child',\n",
    "}"
   ]
  },
  {
   "cell_type": "code",
   "execution_count": 300,
   "metadata": {},
   "outputs": [
    {
     "data": {
      "text/plain": [
       "dict_items([('3 idiots', 'a story about 3 idiots frnds'), ('lunchbox', 'a story about a lunchbox'), ('dungle', 'a story about a dungle'), ('pk', 'a story about a pk'), ('taare zameen par', 'a story about a dyslexic child')])"
      ]
     },
     "execution_count": 300,
     "metadata": {},
     "output_type": "execute_result"
    }
   ],
   "source": [
    "movies.items()"
   ]
  },
  {
   "cell_type": "code",
   "execution_count": 301,
   "metadata": {},
   "outputs": [
    {
     "name": "stdout",
     "output_type": "stream",
     "text": [
      "3 idiots             a story about 3 idiots frnds\n",
      "lunchbox             a story about a lunchbox\n",
      "dungle               a story about a dungle\n",
      "pk                   a story about a pk\n",
      "taare zameen par     a story about a dyslexic child\n"
     ]
    }
   ],
   "source": [
    "for k,v in movies.items():\n",
    "    #print(k,v)\n",
    "    print(f'{k:20} {v}')"
   ]
  },
  {
   "cell_type": "code",
   "execution_count": 302,
   "metadata": {},
   "outputs": [
    {
     "data": {
      "text/plain": [
       "True"
      ]
     },
     "execution_count": 302,
     "metadata": {},
     "output_type": "execute_result"
    }
   ],
   "source": [
    "isinstance(report['class10'], dict)"
   ]
  },
  {
   "cell_type": "code",
   "execution_count": 303,
   "metadata": {},
   "outputs": [
    {
     "name": "stdout",
     "output_type": "stream",
     "text": [
      "class10\n",
      "-> rohan\n",
      " -> english = 90\n",
      " -> maths = 56\n",
      " -> hindi = 85\n",
      " -> science = 95\n",
      " -> social = 89\n",
      " -> p.e = 90\n",
      "-> mohit\n",
      " -> english = 50\n",
      " -> maths = 55\n",
      " -> hindi = 45\n",
      " -> science = 55\n",
      " -> social = 55\n",
      " -> p.e = 78\n",
      "-> shreya\n",
      " -> english = 90\n",
      " -> maths = 56\n",
      " -> hindi = 55\n",
      " -> science = 45\n",
      " -> social = 79\n",
      " -> p.e = 67\n",
      "-> mazahir\n",
      " -> english = 99\n",
      " -> maths = 96\n",
      " -> hindi = 75\n",
      " -> science = 75\n",
      " -> social = 89\n",
      " -> p.e = 70\n",
      "-> imadul\n",
      " -> english = 90\n",
      " -> maths = 56\n",
      " -> hindi = 85\n",
      " -> science = 95\n",
      " -> social = 89\n",
      " -> p.e = 90\n",
      "-> yesh tiwari\n",
      " -> english = 78\n",
      " -> maths = 46\n",
      " -> hindi = 89\n",
      " -> science = 55\n",
      " -> social = 79\n",
      " -> p.e = 80\n"
     ]
    }
   ],
   "source": [
    "for cls , students in report.items():\n",
    "    print(cls)\n",
    "    if isinstance(students,dict):\n",
    "        for name,subjects in students.items():\n",
    "            print('->',name)\n",
    "            if isinstance(subjects,dict):\n",
    "                for subject,marks in subjects.items():\n",
    "                    print(' ->',subject,'=',marks)\n",
    "                \n",
    "            \n",
    "                    "
   ]
  },
  {
   "cell_type": "code",
   "execution_count": 310,
   "metadata": {},
   "outputs": [
    {
     "name": "stdout",
     "output_type": "stream",
     "text": [
      "class10\n",
      "-> rohan\n",
      "total--> 505\n",
      "average--> 84\n",
      "-> mohit\n",
      "total--> 338\n",
      "average--> 56\n",
      "-> shreya\n",
      "total--> 392\n",
      "average--> 65\n",
      "-> mazahir\n",
      "total--> 504\n",
      "average--> 84\n",
      "-> imadul\n",
      "total--> 505\n",
      "average--> 84\n",
      "-> yesh tiwari\n",
      "total--> 427\n",
      "average--> 71\n"
     ]
    }
   ],
   "source": [
    "for cls , students in report.items():\n",
    "    print(cls)\n",
    "    if isinstance(students,dict):\n",
    "        for name,subjects in students.items():\n",
    "            print('->',name)\n",
    "            if isinstance(subjects,dict):\n",
    "                total = sum(subjects.values())\n",
    "                print('total-->',total)\n",
    "                print('average-->',total//6)"
   ]
  },
  {
   "cell_type": "code",
   "execution_count": null,
   "metadata": {},
   "outputs": [],
   "source": []
  }
 ],
 "metadata": {
  "kernelspec": {
   "display_name": "Python 3",
   "language": "python",
   "name": "python3"
  },
  "language_info": {
   "codemirror_mode": {
    "name": "ipython",
    "version": 3
   },
   "file_extension": ".py",
   "mimetype": "text/x-python",
   "name": "python",
   "nbconvert_exporter": "python",
   "pygments_lexer": "ipython3",
   "version": "3.10.11"
  },
  "orig_nbformat": 4
 },
 "nbformat": 4,
 "nbformat_minor": 2
}
