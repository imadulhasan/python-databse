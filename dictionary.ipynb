{
 "cells": [
  {
   "cell_type": "code",
   "execution_count": 5,
   "metadata": {},
   "outputs": [],
   "source": [
    "students = {\n",
    "    'maulik' : 'mu',\n",
    "    'aman' : 'NPGU',\n",
    "    'abhay' : 'NPGU',\n",
    "    'mazahir' : 'AU',\n",
    "    'imadul' : 'IU'\n",
    "}"
   ]
  },
  {
   "cell_type": "code",
   "execution_count": 7,
   "metadata": {},
   "outputs": [
    {
     "data": {
      "text/plain": [
       "'IU'"
      ]
     },
     "execution_count": 7,
     "metadata": {},
     "output_type": "execute_result"
    }
   ],
   "source": [
    "students['imadul']"
   ]
  },
  {
   "cell_type": "code",
   "execution_count": 9,
   "metadata": {},
   "outputs": [],
   "source": [
    "students = {\n",
    "    'maulik' : {\n",
    "        'college':'MU',\n",
    "        'type':'offline'\n",
    "    },\n",
    "    'aman' : 'NPGU',\n",
    "    'abhay' : 'NPGU',\n",
    "    'mazahir' :{\n",
    "        'college':'AU',\n",
    "        'type':'offline'\n",
    "    },\n",
    "    'imadul' : {\n",
    "        'college':'IU',\n",
    "        'type':'offline'\n",
    "    }\n",
    "}"
   ]
  },
  {
   "cell_type": "code",
   "execution_count": 10,
   "metadata": {},
   "outputs": [
    {
     "data": {
      "text/plain": [
       "{'college': 'IU', 'type': 'offline'}"
      ]
     },
     "execution_count": 10,
     "metadata": {},
     "output_type": "execute_result"
    }
   ],
   "source": [
    "students['imadul']"
   ]
  },
  {
   "cell_type": "code",
   "execution_count": 11,
   "metadata": {},
   "outputs": [],
   "source": [
    "from pprint import pp       #pretty print"
   ]
  },
  {
   "cell_type": "code",
   "execution_count": 12,
   "metadata": {},
   "outputs": [
    {
     "name": "stdout",
     "output_type": "stream",
     "text": [
      "{'maulik': {'college': 'MU', 'type': 'offline'},\n",
      " 'aman': 'NPGU',\n",
      " 'abhay': 'NPGU',\n",
      " 'mazahir': {'college': 'AU', 'type': 'offline'},\n",
      " 'imadul': {'college': 'IU', 'type': 'offline'}}\n"
     ]
    }
   ],
   "source": [
    "pp (students)"
   ]
  },
  {
   "cell_type": "code",
   "execution_count": 15,
   "metadata": {},
   "outputs": [
    {
     "data": {
      "text/plain": [
       "'offline'"
      ]
     },
     "execution_count": 15,
     "metadata": {},
     "output_type": "execute_result"
    }
   ],
   "source": [
    "students['imadul']['type']"
   ]
  },
  {
   "cell_type": "code",
   "execution_count": 21,
   "metadata": {},
   "outputs": [],
   "source": [
    "#add students \n",
    "students['shreya']={\n",
    "    'college':'BBDU',\n",
    "    'type':'online'\n",
    "}"
   ]
  },
  {
   "cell_type": "code",
   "execution_count": 22,
   "metadata": {},
   "outputs": [
    {
     "name": "stdout",
     "output_type": "stream",
     "text": [
      "{'maulik': {'college': 'MU', 'type': 'offline'},\n",
      " 'aman': 'NPGU',\n",
      " 'abhay': 'NPGU',\n",
      " 'mazahir': {'college': 'AU', 'type': 'offline'},\n",
      " 'imadul': {'college': 'IU', 'type': 'offline'},\n",
      " 'sherya': {'college': 'BBDU', 'type': 'online'},\n",
      " 'shreya': {'college': 'BBDU', 'type': 'online'}}\n"
     ]
    }
   ],
   "source": [
    "pp (students)"
   ]
  },
  {
   "cell_type": "code",
   "execution_count": 23,
   "metadata": {},
   "outputs": [
    {
     "name": "stdout",
     "output_type": "stream",
     "text": [
      "{'maulik': {'college': 'MU', 'type': 'offline'},\n",
      " 'aman': 'NPGU',\n",
      " 'abhay': 'NPGU',\n",
      " 'mazahir': {'college': 'AU', 'type': 'flexi'},\n",
      " 'imadul': {'college': 'IU', 'type': 'offline'},\n",
      " 'sherya': {'college': 'BBDU', 'type': 'online'},\n",
      " 'shreya': {'college': 'BBDU', 'type': 'online'}}\n"
     ]
    }
   ],
   "source": [
    "students['mazahir']['type']='flexi'\n",
    "pp (students)"
   ]
  },
  {
   "cell_type": "code",
   "execution_count": 24,
   "metadata": {},
   "outputs": [
    {
     "name": "stdout",
     "output_type": "stream",
     "text": [
      "{'maulik': {'college': 'MU', 'type': 'offline'},\n",
      " 'abhay': 'NPGU',\n",
      " 'mazahir': {'college': 'AU', 'type': 'flexi'},\n",
      " 'imadul': {'college': 'IU', 'type': 'offline'},\n",
      " 'sherya': {'college': 'BBDU', 'type': 'online'},\n",
      " 'shreya': {'college': 'BBDU', 'type': 'online'}}\n"
     ]
    }
   ],
   "source": [
    "students.pop('aman')\n",
    "pp(students)"
   ]
  },
  {
   "cell_type": "code",
   "execution_count": 25,
   "metadata": {},
   "outputs": [
    {
     "name": "stdout",
     "output_type": "stream",
     "text": [
      "{'maulik': {'college': 'MU', 'type': 'offline'},\n",
      " 'abhay': 'NPGU',\n",
      " 'mazahir': {'college': 'AU', 'type': 'flexi'},\n",
      " 'imadul': {'college': 'IU', 'type': 'offline', 'age': '21'},\n",
      " 'sherya': {'college': 'BBDU', 'type': 'online'},\n",
      " 'shreya': {'college': 'BBDU', 'type': 'online'}}\n"
     ]
    }
   ],
   "source": [
    "students['imadul']['age']='21'\n",
    "pp(students)"
   ]
  },
  {
   "cell_type": "code",
   "execution_count": 26,
   "metadata": {},
   "outputs": [],
   "source": [
    "report = {\n",
    "    'class10':{\n",
    "        'rohan':{\n",
    "            'english':90,\n",
    "            'maths': 56,\n",
    "            'hindi':85,\n",
    "            'science':95,\n",
    "            'social':89,\n",
    "            'p.e':90,\n",
    "        },\n",
    "        'mohit':{\n",
    "            'english':50,\n",
    "            'maths':55,\n",
    "            'hindi':45,\n",
    "            'science':55,\n",
    "            'social':55,\n",
    "            'p.e':78,\n",
    "        },\n",
    "        'shreya':{\n",
    "            'english':90,\n",
    "            'maths': 56,\n",
    "            'hindi':55,\n",
    "            'science':45,\n",
    "            'social':79,\n",
    "            'p.e':67,\n",
    "\n",
    "        },\n",
    "        'mazahir':{\n",
    "            'english':99,\n",
    "            'maths': 96,\n",
    "            'hindi':75,\n",
    "            'science':75,\n",
    "            'social':89,\n",
    "            'p.e':70,\n",
    "        },\n",
    "        'imadul':{\n",
    "            'english':90,\n",
    "            'maths': 56,\n",
    "            'hindi':85,\n",
    "            'science':95,\n",
    "            'social':89,\n",
    "            'p.e':90,\n",
    "        }\n",
    "    }\n",
    "}"
   ]
  },
  {
   "cell_type": "code",
   "execution_count": null,
   "metadata": {},
   "outputs": [],
   "source": []
  }
 ],
 "metadata": {
  "kernelspec": {
   "display_name": "Python 3",
   "language": "python",
   "name": "python3"
  },
  "language_info": {
   "codemirror_mode": {
    "name": "ipython",
    "version": 3
   },
   "file_extension": ".py",
   "mimetype": "text/x-python",
   "name": "python",
   "nbconvert_exporter": "python",
   "pygments_lexer": "ipython3",
   "version": "3.10.11"
  },
  "orig_nbformat": 4
 },
 "nbformat": 4,
 "nbformat_minor": 2
}
