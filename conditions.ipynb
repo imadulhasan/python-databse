{
 "cells": [
  {
   "cell_type": "code",
   "execution_count": 1,
   "metadata": {},
   "outputs": [
    {
     "name": "stdout",
     "output_type": "stream",
     "text": [
      "a is less then b\n",
      "a is less then c\n",
      "b is less then c\n"
     ]
    }
   ],
   "source": [
    "a=5\n",
    "b=10\n",
    "c=15\n",
    "if a<b:\n",
    "    print(\"a is less then b\")\n",
    "if a<c:\n",
    "    print(\"a is less then c\")\n",
    "if b<a:\n",
    "    print(\"b is less then a\")  \n",
    "if b<c:\n",
    "    print(\"b is less then c\")\n",
    "if c<a:\n",
    "    print(\"c is less then a\")  \n",
    "if c<b:\n",
    "    print(\"c is less then b\")              "
   ]
  },
  {
   "cell_type": "code",
   "execution_count": 3,
   "metadata": {},
   "outputs": [
    {
     "name": "stdout",
     "output_type": "stream",
     "text": [
      "a is less then b\n"
     ]
    }
   ],
   "source": [
    "a=5 \n",
    "b=10\n",
    "c= 15\n",
    "if a<b:\n",
    "    print(\"a is less then b\")\n",
    "elif a<c:\n",
    "    print(\"a is less then cc\")\n",
    "elif b<a:\n",
    "    print(\"b is less then a\")\n",
    "elif b<c:\n",
    "    print(\"b is less then c\")\n",
    "elif c<a:\n",
    "    print(\"c is less then a\" )\n",
    "elif c<b:\n",
    "    print(\"c is less then b\")\n",
    "else:\n",
    "    print(\"hello\")    \n",
    "                 \n"
   ]
  },
  {
   "cell_type": "code",
   "execution_count": 4,
   "metadata": {},
   "outputs": [
    {
     "name": "stdout",
     "output_type": "stream",
     "text": [
      "odd \n"
     ]
    }
   ],
   "source": [
    "a= int (input(\"enter ab number\"))\n",
    "if a%2==0:\n",
    "    print(\"even\")\n",
    "else :\n",
    "    print(\"odd \")    "
   ]
  },
  {
   "cell_type": "code",
   "execution_count": 8,
   "metadata": {},
   "outputs": [
    {
     "name": "stdout",
     "output_type": "stream",
     "text": [
      "nigative\n"
     ]
    }
   ],
   "source": [
    "a = int(input(\"enter a number\"))\n",
    "if a>0:\n",
    "    print(\"positive\")\n",
    "else:\n",
    "    print(\"nigative\")    "
   ]
  },
  {
   "cell_type": "code",
   "execution_count": 10,
   "metadata": {},
   "outputs": [
    {
     "name": "stdout",
     "output_type": "stream",
     "text": [
      "success\n"
     ]
    }
   ],
   "source": [
    "username= input(\"enter your username\")\n",
    "email=input(\"enter your email\")\n",
    "pwd=input(\"enter your password\")\n",
    "pwd2=input(\"enter your second password\")\n",
    "if len(username)>=4 and len(username)<=15:\n",
    "    if '@' in email and email.islower() and len(email)>10:\n",
    "        if len(pwd)>=6 and pwd!=username:\n",
    "            if pwd==pwd2:\n",
    "               print(\"success\")\n",
    "            else:\n",
    "                print(\"password doesn't match\")\n",
    "        else:\n",
    "             print(\"password is invalid\")\n",
    "    else:\n",
    "        print(\"email is invalid\")\n",
    "else:\n",
    "    print(\"username is invalid\")\n",
    "\n",
    "                     \n"
   ]
  },
  {
   "cell_type": "code",
   "execution_count": 14,
   "metadata": {},
   "outputs": [
    {
     "name": "stdout",
     "output_type": "stream",
     "text": [
      "yes this guy is eligible for vote\n"
     ]
    }
   ],
   "source": [
    "age = int(input(\"enter your age\"))\n",
    "if age>=18:\n",
    "    print(\"yes this guy is eligible for vote\")\n",
    "else:\n",
    "    print(\"no not eligible for vote\")    "
   ]
  },
  {
   "cell_type": "code",
   "execution_count": 15,
   "metadata": {},
   "outputs": [
    {
     "name": "stdout",
     "output_type": "stream",
     "text": [
      "scalene\n"
     ]
    }
   ],
   "source": [
    "a = int(input(\"enter your side \"))\n",
    "b = int(input(\"enter your second side\"))\n",
    "c = int(input(\"rnter your third side\"))\n",
    "if a==b and b!=c and a==c and  a!=b or b==c and b!=a:\n",
    "    print(\"isosceles triangle\")\n",
    "elif a==b and b==c or b==a and b==c or c==a and c==b:\n",
    "    print(\"equuilateral\")\n",
    "else:\n",
    "    print(\"scalene\")        \n",
    "\n",
    "    \n",
    "     \n"
   ]
  },
  {
   "cell_type": "code",
   "execution_count": null,
   "metadata": {},
   "outputs": [],
   "source": []
  }
 ],
 "metadata": {
  "kernelspec": {
   "display_name": "Python 3",
   "language": "python",
   "name": "python3"
  },
  "language_info": {
   "codemirror_mode": {
    "name": "ipython",
    "version": 3
   },
   "file_extension": ".py",
   "mimetype": "text/x-python",
   "name": "python",
   "nbconvert_exporter": "python",
   "pygments_lexer": "ipython3",
   "version": "3.10.11"
  },
  "orig_nbformat": 4
 },
 "nbformat": 4,
 "nbformat_minor": 2
}
