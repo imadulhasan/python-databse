{
 "cells": [
  {
   "cell_type": "code",
   "execution_count": 5,
   "metadata": {},
   "outputs": [
    {
     "name": "stdout",
     "output_type": "stream",
     "text": [
      "[5.5, 22.5, 33.5, 17.5]\n"
     ]
    }
   ],
   "source": [
    "A = [11,45,67,35,76,88,56,50,76,80]\n",
    "A2 = [i/2 for i in A if i % 2!=0]\n",
    "print(A2)\n"
   ]
  },
  {
   "cell_type": "code",
   "execution_count": 6,
   "metadata": {},
   "outputs": [
    {
     "name": "stdout",
     "output_type": "stream",
     "text": [
      "[6.0, 16.0, 33.0, 39.0, 23.0, 44.0]\n"
     ]
    }
   ],
   "source": [
    "b = [12,32,45,66,78,51,49,46,77,88]\n",
    "b2 = [i/2 for i in b if i % 2==0]\n",
    "print(b2)"
   ]
  },
  {
   "cell_type": "code",
   "execution_count": 13,
   "metadata": {},
   "outputs": [
    {
     "name": "stdout",
     "output_type": "stream",
     "text": [
      "[2, 3, 5, 10]\n"
     ]
    }
   ],
   "source": [
    "a = ['2','3','5','10']\n",
    "a2 = [int(i) for i in a]\n",
    "print(a2)"
   ]
  },
  {
   "cell_type": "code",
   "execution_count": 2,
   "metadata": {},
   "outputs": [
    {
     "name": "stdout",
     "output_type": "stream",
     "text": [
      "[12, 24, 36, 48, 60, 72, 84, 96, 108, 110]\n"
     ]
    }
   ],
   "source": [
    "c = [1,2,3,4,5,6,7,8,9,10,]\n",
    "c2 = [11,22,33,44,55,66,77,88,99,100]\n",
    "c3 = [c[i]+c2[i] for i in range(len(c))]\n",
    "print(c3)"
   ]
  },
  {
   "cell_type": "code",
   "execution_count": 4,
   "metadata": {},
   "outputs": [
    {
     "name": "stdout",
     "output_type": "stream",
     "text": [
      "apple\n",
      "banana\n"
     ]
    }
   ],
   "source": [
    "x = ['apple','banana']\n",
    "for i in x:\n",
    "    print(i)"
   ]
  },
  {
   "cell_type": "code",
   "execution_count": 7,
   "metadata": {},
   "outputs": [
    {
     "name": "stdout",
     "output_type": "stream",
     "text": [
      "0 red\n",
      "1 yellow\n",
      "2 blue\n",
      "3 green\n"
     ]
    }
   ],
   "source": [
    "color = ['red','yellow','blue','green']\n",
    "for i,j in enumerate(color):\n",
    "    print(i,j)"
   ]
  },
  {
   "cell_type": "code",
   "execution_count": 9,
   "metadata": {},
   "outputs": [
    {
     "name": "stdout",
     "output_type": "stream",
     "text": [
      "🔥red\n",
      "❌yellow\n",
      "🔥blue\n",
      "❌green\n"
     ]
    }
   ],
   "source": [
    "for index,value in enumerate(color):\n",
    "    if index % 2==0:\n",
    "        print(f\"🔥{value}\")\n",
    "    else:\n",
    "        print(f'❌{value}')"
   ]
  },
  {
   "cell_type": "code",
   "execution_count": 17,
   "metadata": {},
   "outputs": [
    {
     "name": "stdout",
     "output_type": "stream",
     "text": [
      "alex got in hindi 56 in english 67 \n",
      "mary got in hindi 78 in english 89 \n",
      "sam got in hindi 90 in english 76 \n",
      "alice got in hindi 45 in english 80 \n"
     ]
    }
   ],
   "source": [
    "name = ['alex','mary','sam','alice']\n",
    "hindi =[56,78,90,45]\n",
    "english =[67,89,76,80]\n",
    "for n,i,j in zip(name,hindi,english):\n",
    "    print(f'{n} got in hindi {i} in english {j} ')"
   ]
  },
  {
   "cell_type": "code",
   "execution_count": 18,
   "metadata": {},
   "outputs": [
    {
     "name": "stdout",
     "output_type": "stream",
     "text": [
      "alex       hindi =56 | englsh -67 | total =123\n",
      "mary       hindi =78 | englsh -89 | total =167\n",
      "sam        hindi =90 | englsh -76 | total =166\n",
      "alice      hindi =45 | englsh -80 | total =125\n"
     ]
    }
   ],
   "source": [
    "for n,h,e in zip(name , hindi , english):\n",
    "    print(f'{n:<10} hindi ={h} | englsh -{e} | total ={h+e}')"
   ]
  },
  {
   "cell_type": "code",
   "execution_count": null,
   "metadata": {},
   "outputs": [],
   "source": []
  }
 ],
 "metadata": {
  "kernelspec": {
   "display_name": "Python 3",
   "language": "python",
   "name": "python3"
  },
  "language_info": {
   "codemirror_mode": {
    "name": "ipython",
    "version": 3
   },
   "file_extension": ".py",
   "mimetype": "text/x-python",
   "name": "python",
   "nbconvert_exporter": "python",
   "pygments_lexer": "ipython3",
   "version": "3.10.11"
  },
  "orig_nbformat": 4
 },
 "nbformat": 4,
 "nbformat_minor": 2
}
