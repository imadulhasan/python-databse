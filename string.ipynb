{
 "cells": [
  {
   "cell_type": "code",
   "execution_count": 1,
   "metadata": {},
   "outputs": [],
   "source": [
    "a = 'hello'\n",
    "b = \"hola\"\n",
    "c = '''this is \n",
    "a multiline \n",
    "message from\n",
    "the past'''"
   ]
  },
  {
   "cell_type": "code",
   "execution_count": 8,
   "metadata": {},
   "outputs": [
    {
     "name": "stdout",
     "output_type": "stream",
     "text": [
      "this is a 'important' message\n",
      "this is a 'important' message\n"
     ]
    }
   ],
   "source": [
    "print('this is a \\'important\\' message')\n",
    "print(\"this is a 'important' message\")"
   ]
  },
  {
   "cell_type": "code",
   "execution_count": 9,
   "metadata": {},
   "outputs": [
    {
     "name": "stdout",
     "output_type": "stream",
     "text": [
      "imadul hasan\n"
     ]
    }
   ],
   "source": [
    "name = input('enter your name')\n",
    "print(name)"
   ]
  },
  {
   "cell_type": "code",
   "execution_count": 10,
   "metadata": {},
   "outputs": [
    {
     "name": "stdout",
     "output_type": "stream",
     "text": [
      "56584656\n"
     ]
    }
   ],
   "source": [
    "x= str(56584656)\n",
    "print(x)"
   ]
  },
  {
   "cell_type": "code",
   "execution_count": null,
   "metadata": {},
   "outputs": [],
   "source": []
  },
  {
   "cell_type": "code",
   "execution_count": 28,
   "metadata": {},
   "outputs": [
    {
     "name": "stdout",
     "output_type": "stream",
     "text": [
      "v\n",
      "n\n",
      "vijay\n",
      "deenanath\n",
      "chauhan\n",
      "nahuahc htananeed yajiv\n",
      "vjydeaahcahn\n"
     ]
    }
   ],
   "source": [
    "name = 'vijay deenanath chauhan'\n",
    "print(name[0])\n",
    "print(name[-1])\n",
    "print(name[:5])\n",
    "print(name[6:15])\n",
    "print(name[-7:])\n",
    "print(name[::-1])\n",
    "print(name[::2])"
   ]
  },
  {
   "cell_type": "code",
   "execution_count": 29,
   "metadata": {},
   "outputs": [
    {
     "name": "stdout",
     "output_type": "stream",
     "text": [
      "JOURNEY BEFORE DESTINATION\n",
      "journey before destination\n",
      "Journey Before Destination\n",
      "Journey before destination\n",
      "journey before destination\n",
      "jOURNEY bEFORE dESTINATION\n"
     ]
    }
   ],
   "source": [
    "msg = 'Journey Before Destination'\n",
    "print(msg.upper())\n",
    "print(msg.lower())\n",
    "print(msg.title())\n",
    "print(msg.capitalize())\n",
    "print(msg.casefold())\n",
    "print(msg.swapcase())"
   ]
  },
  {
   "cell_type": "code",
   "execution_count": 39,
   "metadata": {},
   "outputs": [
    {
     "name": "stdout",
     "output_type": "stream",
     "text": [
      "  Journey Before Destination  \n"
     ]
    }
   ],
   "source": [
    "print(f'{msg:^30}')\n"
   ]
  },
  {
   "cell_type": "code",
   "execution_count": 41,
   "metadata": {},
   "outputs": [
    {
     "name": "stdout",
     "output_type": "stream",
     "text": [
      "~~~~~~~~~~~~~~~~~~~~~~~~~~~~~~~~~~~~~Journey Before Destination~~~~~~~~~~~~~~~~~~~~~~~~~~~~~~~~~~~~~\n",
      "Journey Before Destination                                                                          \n",
      "                                                                          Journey Before Destination\n"
     ]
    }
   ],
   "source": [
    "print(msg.center(100, '~'))\n",
    "print(msg.ljust(100))\n",
    "print(msg.rjust(100))"
   ]
  },
  {
   "cell_type": "code",
   "execution_count": 40,
   "metadata": {},
   "outputs": [
    {
     "name": "stdout",
     "output_type": "stream",
     "text": [
      "num pow result\n",
      "1   2    1     \n",
      "2   2    4     \n",
      "3   2    9     \n",
      "4   2    16    \n",
      "5   2    25    \n",
      "6   2    36    \n",
      "7   2    49    \n",
      "8   2    64    \n",
      "9   2    81    \n",
      "10  2    100   \n",
      "11  2    121   \n",
      "12  2    144   \n",
      "13  2    169   \n",
      "14  2    196   \n",
      "15  2    225   \n",
      "16  2    256   \n",
      "17  2    289   \n",
      "18  2    324   \n",
      "19  2    361   \n"
     ]
    }
   ],
   "source": [
    "print('num pow result')\n",
    "for i in range(1,20):\n",
    "    #print(i**2)\n",
    "    print(f'{i:<3} {2:<4} {i**2:<6}')\n"
   ]
  },
  {
   "cell_type": "code",
   "execution_count": 43,
   "metadata": {},
   "outputs": [
    {
     "name": "stdout",
     "output_type": "stream",
     "text": [
      "True\n",
      "True\n",
      "False\n"
     ]
    }
   ],
   "source": [
    "a = 'what'\n",
    "print(a.isalpha())\n",
    "print(a.isalnum())\n",
    "print(a.isnumeric())\n"
   ]
  },
  {
   "cell_type": "code",
   "execution_count": 45,
   "metadata": {},
   "outputs": [
    {
     "name": "stdout",
     "output_type": "stream",
     "text": [
      "we dont want alphabets\n"
     ]
    }
   ],
   "source": [
    "num1 = input('enter a  number')\n",
    "if num1.isalpha():\n",
    "    print('we dont want alphabets') \n",
    "elif num1.isnumeric():\n",
    "    print('good job')\n",
    "    num1 =int(num1)"
   ]
  },
  {
   "cell_type": "code",
   "execution_count": 53,
   "metadata": {},
   "outputs": [
    {
     "name": "stdout",
     "output_type": "stream",
     "text": [
      "hello engineer\n"
     ]
    }
   ],
   "source": [
    "name = 'Er.watson'\n",
    "if name.startswith('mr.'):\n",
    "    print('hello mister')\n",
    "elif name.startswith('dr.'):\n",
    "    print('hello doctor')\n",
    "elif name.startswith('Er.'):\n",
    "    print('hello engineer')  \n"
   ]
  },
  {
   "cell_type": "code",
   "execution_count": 51,
   "metadata": {},
   "outputs": [
    {
     "data": {
      "text/plain": [
       "['Journey', 'Before', 'Destination']"
      ]
     },
     "execution_count": 51,
     "metadata": {},
     "output_type": "execute_result"
    }
   ],
   "source": [
    "msg.split()\n"
   ]
  },
  {
   "cell_type": "code",
   "execution_count": 52,
   "metadata": {},
   "outputs": [
    {
     "name": "stdout",
     "output_type": "stream",
     "text": [
      "['1-0', '2-0', '4-0', '7-0', '6-7']\n"
     ]
    }
   ],
   "source": [
    "data = '1-0,2-0,4-0,7-0,6-7'\n",
    "score = data.split(',')\n",
    "print(score)"
   ]
  },
  {
   "cell_type": "code",
   "execution_count": 54,
   "metadata": {},
   "outputs": [
    {
     "name": "stdout",
     "output_type": "stream",
     "text": [
      "['1', '4', '2', '6', '8', '6']\n"
     ]
    }
   ],
   "source": [
    "user_value = input('enter your seperated by')\n",
    "print(user_value.split(','))"
   ]
  },
  {
   "cell_type": "code",
   "execution_count": 55,
   "metadata": {},
   "outputs": [
    {
     "data": {
      "text/plain": [
       "'hello joy what are you doing'"
      ]
     },
     "execution_count": 55,
     "metadata": {},
     "output_type": "execute_result"
    }
   ],
   "source": [
    "value = [ 'hello','joy','what','are','you','doing']\n",
    "\" \".join(value)"
   ]
  },
  {
   "cell_type": "code",
   "execution_count": 18,
   "metadata": {},
   "outputs": [
    {
     "name": "stdout",
     "output_type": "stream",
     "text": [
      "h\n",
      "e\n",
      "l\n",
      "l\n",
      "o\n",
      " \n",
      "w\n",
      "o\n",
      "r\n",
      "l\n",
      "d\n"
     ]
    }
   ],
   "source": [
    "h = 'hello world'\n",
    "for i in h:\n",
    "    print(i) "
   ]
  },
  {
   "cell_type": "code",
   "execution_count": 19,
   "metadata": {},
   "outputs": [
    {
     "data": {
      "text/plain": [
       "['this',\n",
       " 'is',\n",
       " 'an',\n",
       " 'example',\n",
       " ',',\n",
       " 'where',\n",
       " 'we',\n",
       " 'are',\n",
       " 'using',\n",
       " 'some',\n",
       " 'words']"
      ]
     },
     "execution_count": 19,
     "metadata": {},
     "output_type": "execute_result"
    }
   ],
   "source": [
    "message = 'this is an example , where we are using some words'\n",
    "message.split()"
   ]
  },
  {
   "cell_type": "code",
   "execution_count": 31,
   "metadata": {},
   "outputs": [
    {
     "data": {
      "text/plain": [
       "['this is an example ', ' where we are using some words']"
      ]
     },
     "execution_count": 31,
     "metadata": {},
     "output_type": "execute_result"
    }
   ],
   "source": [
    "message.split(',')"
   ]
  },
  {
   "cell_type": "code",
   "execution_count": 26,
   "metadata": {},
   "outputs": [],
   "source": [
    "words = message.split()"
   ]
  },
  {
   "cell_type": "code",
   "execution_count": 25,
   "metadata": {},
   "outputs": [
    {
     "name": "stdout",
     "output_type": "stream",
     "text": [
      "this\n",
      "is\n",
      "an\n",
      "example\n",
      ",\n",
      "where\n",
      "we\n",
      "are\n",
      "using\n",
      "some\n",
      "words\n"
     ]
    }
   ],
   "source": [
    "words = message.split()\n",
    "for w in words:\n",
    "    print(w)"
   ]
  },
  {
   "cell_type": "code",
   "execution_count": 27,
   "metadata": {},
   "outputs": [
    {
     "data": {
      "text/plain": [
       "'this is an example , where we are using some words'"
      ]
     },
     "execution_count": 27,
     "metadata": {},
     "output_type": "execute_result"
    }
   ],
   "source": [
    "\" \".join(words)"
   ]
  },
  {
   "cell_type": "code",
   "execution_count": 33,
   "metadata": {},
   "outputs": [
    {
     "name": "stdout",
     "output_type": "stream",
     "text": [
      "21\n",
      "27\n",
      "15\n",
      "-1\n",
      "8\n",
      "13\n"
     ]
    }
   ],
   "source": [
    "print(message.find ('where'))\n",
    "print(message.find('we'))\n",
    "print(message.find('ple'))\n",
    "print(message.find('z'))\n",
    "print(message.find('a'))\n",
    "print(message.find('a',9))"
   ]
  },
  {
   "cell_type": "code",
   "execution_count": 34,
   "metadata": {},
   "outputs": [
    {
     "name": "stdout",
     "output_type": "stream",
     "text": [
      "this is in eximple , where we ire using some words\n"
     ]
    }
   ],
   "source": [
    "print(message.replace('a','i'))"
   ]
  },
  {
   "cell_type": "code",
   "execution_count": 35,
   "metadata": {},
   "outputs": [
    {
     "name": "stdout",
     "output_type": "stream",
     "text": [
      "this is a story , where we are using some words\n"
     ]
    }
   ],
   "source": [
    "print(message.replace('an example','a story'))"
   ]
  },
  {
   "cell_type": "code",
   "execution_count": 37,
   "metadata": {},
   "outputs": [
    {
     "name": "stdout",
     "output_type": "stream",
     "text": [
      "this is an example , where we are using some sentences\n"
     ]
    }
   ],
   "source": [
    "print(message.replace('an exampple','a story').replace('words','sentences'))"
   ]
  },
  {
   "cell_type": "code",
   "execution_count": 36,
   "metadata": {},
   "outputs": [
    {
     "name": "stdout",
     "output_type": "stream",
     "text": [
      "this is an example , where we are using some words\n"
     ]
    }
   ],
   "source": [
    "print(message)"
   ]
  },
  {
   "cell_type": "code",
   "execution_count": 41,
   "metadata": {},
   "outputs": [
    {
     "name": "stdout",
     "output_type": "stream",
     "text": [
      "this is a story , where we are using some words\n"
     ]
    }
   ],
   "source": [
    "message = message.replace('an example','a story')\n",
    "print(message)"
   ]
  },
  {
   "cell_type": "code",
   "execution_count": 44,
   "metadata": {},
   "outputs": [
    {
     "data": {
      "text/plain": [
       "'alex johnny yes papa, eating sugar no papa'"
      ]
     },
     "execution_count": 44,
     "metadata": {},
     "output_type": "execute_result"
    }
   ],
   "source": [
    "poem =('johnny johnny yes papa, eating sugar no papa')\n",
    "poem.replace('johnny','alex',1)"
   ]
  },
  {
   "cell_type": "code",
   "execution_count": 47,
   "metadata": {},
   "outputs": [
    {
     "name": "stdout",
     "output_type": "stream",
     "text": [
      "example is used 3\n"
     ]
    }
   ],
   "source": [
    "message = 'this is an example where another example is used to show an example'\n",
    "message.count('ex')\n"
   ]
  },
  {
   "cell_type": "code",
   "execution_count": null,
   "metadata": {},
   "outputs": [],
   "source": [
    "ce = message.count('example')\n",
    "print(f'example is used {ce}')"
   ]
  },
  {
   "cell_type": "code",
   "execution_count": 48,
   "metadata": {},
   "outputs": [
    {
     "name": "stdout",
     "output_type": "stream",
     "text": [
      "dlrow olleh\n"
     ]
    }
   ],
   "source": [
    "h = 'hello world'\n",
    "print(h[::-1])"
   ]
  },
  {
   "cell_type": "code",
   "execution_count": 50,
   "metadata": {},
   "outputs": [
    {
     "name": "stdout",
     "output_type": "stream",
     "text": [
      "to move to newline '\\n' is used.\n"
     ]
    }
   ],
   "source": [
    "msg = r\"to move to newline '\\n' is used.\"\n",
    "print(msg)"
   ]
  },
  {
   "cell_type": "code",
   "execution_count": 52,
   "metadata": {},
   "outputs": [
    {
     "name": "stdout",
     "output_type": "stream",
     "text": [
      "to move to newline '\\n' is used\n"
     ]
    }
   ],
   "source": [
    "msg = \"to move to newline '\\\\n' is used\"\n",
    "print(msg)"
   ]
  },
  {
   "cell_type": "code",
   "execution_count": 53,
   "metadata": {},
   "outputs": [
    {
     "name": "stdout",
     "output_type": "stream",
     "text": [
      "this is not a good string\n"
     ]
    }
   ],
   "source": [
    "text ='     this is not a good string           '\n",
    "text = text.strip()\n",
    "print(text)"
   ]
  },
  {
   "cell_type": "code",
   "execution_count": 2,
   "metadata": {},
   "outputs": [
    {
     "name": "stdout",
     "output_type": "stream",
     "text": [
      "found\n"
     ]
    }
   ],
   "source": [
    "unin = input('enter a string')\n",
    "for char in unin:\n",
    "    if char.isupper():\n",
    "        print('found')\n",
    "        break    "
   ]
  },
  {
   "cell_type": "code",
   "execution_count": 4,
   "metadata": {},
   "outputs": [
    {
     "name": "stdout",
     "output_type": "stream",
     "text": [
      "hello brp what are you doing\n"
     ]
    }
   ],
   "source": [
    "from string import punctuation\n",
    "text = input('enter a string:')\n",
    "for char in punctuation:\n",
    "    text = text.replace(char,'')\n",
    "print(text)"
   ]
  },
  {
   "cell_type": "code",
   "execution_count": 8,
   "metadata": {},
   "outputs": [
    {
     "name": "stdout",
     "output_type": "stream",
     "text": [
      "['joe', 'david', 'mark', 'tom', 'chris ', 'robert']\n"
     ]
    }
   ],
   "source": [
    "names = 'joe, david, mark, tom, chris , robert'\n",
    "namelist = names.split(', ')\n",
    "print(namelist)"
   ]
  },
  {
   "cell_type": "code",
   "execution_count": 9,
   "metadata": {},
   "outputs": [
    {
     "name": "stdout",
     "output_type": "stream",
     "text": [
      "thisaye isaye soneaye textaye\n"
     ]
    }
   ],
   "source": [
    "text = 'this is sone text'\n",
    "result = \" \".join([word+'aye' for word in text.split()])\n",
    "print(result)"
   ]
  },
  {
   "cell_type": "code",
   "execution_count": 13,
   "metadata": {},
   "outputs": [
    {
     "name": "stdout",
     "output_type": "stream",
     "text": [
      "['this', 'is', 'a', 'nice', 'job', 'you', 'doing', '.', 'nice', 'to', 'meet', 'you', 'brother', 'ya', 'its', 'great']\n",
      "[4, 2, 1, 4, 3, 3, 5, 1, 4, 2, 4, 3, 7, 2, 3, 5]\n",
      "3.3125\n"
     ]
    }
   ],
   "source": [
    "para = ' this is a nice job you doing . nice to meet you brother ya its great'\n",
    "words = para.split()\n",
    "print(words)\n",
    "lengths = [len (word) for word in words]\n",
    "print(lengths)\n",
    "print(sum(lengths)/len(lengths))\n",
    "\n"
   ]
  },
  {
   "cell_type": "code",
   "execution_count": null,
   "metadata": {},
   "outputs": [],
   "source": []
  }
 ],
 "metadata": {
  "kernelspec": {
   "display_name": "Python 3",
   "language": "python",
   "name": "python3"
  },
  "language_info": {
   "codemirror_mode": {
    "name": "ipython",
    "version": 3
   },
   "file_extension": ".py",
   "mimetype": "text/x-python",
   "name": "python",
   "nbconvert_exporter": "python",
   "pygments_lexer": "ipython3",
   "version": "3.10.11"
  },
  "orig_nbformat": 4
 },
 "nbformat": 4,
 "nbformat_minor": 2
}
