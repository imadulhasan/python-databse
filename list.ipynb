{
 "cells": [
  {
   "cell_type": "code",
   "execution_count": 30,
   "metadata": {},
   "outputs": [
    {
     "name": "stdout",
     "output_type": "stream",
     "text": [
      "['insta', 'watssapp', 'snapchat', 'facebook', 'kids', 'kids,', 'telegram', 'youtube', 'google', 'chrome', 'pubg', 'netflix', 'amazone', 'snapseed', 'twiter', 'uc browser', 'car info', 'hotstar']\n"
     ]
    }
   ],
   "source": [
    "b = ['insta','watssapp','snapchat','facebook','kids','kids','telegram','youtube','google','chrome','pubg','netflix','amazone','snapseed','twiter','uc browser','car info']\n",
    "b.append('hotstar')\n",
    "print(b)\n"
   ]
  },
  {
   "cell_type": "code",
   "execution_count": 9,
   "metadata": {},
   "outputs": [
    {
     "name": "stdout",
     "output_type": "stream",
     "text": [
      "['hello word', 'insta', 'watssapp', 'snapchat', 'facebook', 'telegram', 'youtube', 'google', 'chrome', 'pubg', 'netflix', 'amazone', 'snapseed', 'twiter', 'uc browser', 'car info', 'hotstar']\n"
     ]
    }
   ],
   "source": [
    "b.insert(0,'hello word')\n",
    "print(b)"
   ]
  },
  {
   "cell_type": "code",
   "execution_count": 10,
   "metadata": {},
   "outputs": [
    {
     "name": "stdout",
     "output_type": "stream",
     "text": [
      "['hotstar', 'car info', 'uc browser', 'twiter', 'snapseed', 'amazone', 'netflix', 'pubg', 'chrome', 'google', 'youtube', 'telegram', 'facebook', 'snapchat', 'watssapp', 'insta', 'hello word']\n"
     ]
    }
   ],
   "source": [
    "b.reverse()\n",
    "print(b)"
   ]
  },
  {
   "cell_type": "code",
   "execution_count": 15,
   "metadata": {},
   "outputs": [
    {
     "name": "stdout",
     "output_type": "stream",
     "text": [
      "['insta', 'snapchat', 'facebook', 'telegram', 'youtube', 'google', 'chrome', 'pubg', 'netflix', 'amazone', 'snapseed', 'twiter', 'uc browser', 'car info', 'hotstar']\n"
     ]
    }
   ],
   "source": [
    "b.pop(1)\n",
    "print(b)"
   ]
  },
  {
   "cell_type": "code",
   "execution_count": 36,
   "metadata": {},
   "outputs": [
    {
     "name": "stdout",
     "output_type": "stream",
     "text": [
      "['nike', 'nice', 'hi', 'hi']\n",
      "['nike', 'hi', 'hi']\n",
      "['nike', 'hi']\n"
     ]
    }
   ],
   "source": [
    "d=['nike','nice','hi','hi','ok']\n",
    "d.pop()\n",
    "print(d)\n",
    "d.remove('nice')\n",
    "print(d)\n",
    "d.pop(2)\n",
    "print(d)\n"
   ]
  },
  {
   "cell_type": "code",
   "execution_count": 20,
   "metadata": {},
   "outputs": [
    {
     "name": "stdout",
     "output_type": "stream",
     "text": [
      "['amazone', 'car info', 'chrome', 'facebook', 'google', 'hotstar', 'insta', 'netflix', 'pubg', 'snapchat', 'snapseed', 'telegram', 'twiter', 'uc browser', 'youtube']\n"
     ]
    }
   ],
   "source": [
    "b.sort()\n",
    "print(b)"
   ]
  },
  {
   "cell_type": "code",
   "execution_count": 31,
   "metadata": {},
   "outputs": [
    {
     "name": "stdout",
     "output_type": "stream",
     "text": [
      "1\n"
     ]
    }
   ],
   "source": [
    "x=b.count('kids')\n",
    "print(x)"
   ]
  },
  {
   "cell_type": "code",
   "execution_count": 25,
   "metadata": {},
   "outputs": [
    {
     "name": "stdout",
     "output_type": "stream",
     "text": [
      "['amazone', 'car info', 'chrome', 'facebook', 'google', 'hotstar', 'insta', 'netflix', 'pubg', 'snapchat', 'snapseed', 'telegram', 'twiter', 'uc browser', 'youtube']\n"
     ]
    }
   ],
   "source": [
    "b.copy()\n",
    "print(b)"
   ]
  },
  {
   "cell_type": "code",
   "execution_count": 32,
   "metadata": {},
   "outputs": [
    {
     "name": "stdout",
     "output_type": "stream",
     "text": [
      "['insta', 'watssapp', 'snapchat', 'facebook', 'kids', 'kids,', 'telegram', 'youtube', 'google', 'chrome', 'pubg', 'netflix', 'amazone', 'snapseed', 'twiter', 'uc browser', 'car info', 'hotstar', 'hello', 'world']\n"
     ]
    }
   ],
   "source": [
    "apps2=['hello','world']\n",
    "b.extend(apps2)\n",
    "print(b)"
   ]
  },
  {
   "cell_type": "code",
   "execution_count": 33,
   "metadata": {},
   "outputs": [
    {
     "name": "stdout",
     "output_type": "stream",
     "text": [
      "15\n"
     ]
    }
   ],
   "source": [
    "x=b.index('uc browser')\n",
    "print(x)"
   ]
  },
  {
   "cell_type": "code",
   "execution_count": 34,
   "metadata": {},
   "outputs": [
    {
     "name": "stdout",
     "output_type": "stream",
     "text": [
      "68\n"
     ]
    }
   ],
   "source": [
    "x=[2,4,3,5,6,4,5,3,2,6,7,9,5,7]\n",
    "y=sum(x)\n",
    "print(y)"
   ]
  },
  {
   "cell_type": "code",
   "execution_count": 35,
   "metadata": {},
   "outputs": [
    {
     "name": "stdout",
     "output_type": "stream",
     "text": [
      "9\n",
      "2\n"
     ]
    }
   ],
   "source": [
    "z=max(x)\n",
    "print(z)\n",
    "c=min(x)\n",
    "print(c)"
   ]
  },
  {
   "cell_type": "code",
   "execution_count": null,
   "metadata": {},
   "outputs": [],
   "source": []
  }
 ],
 "metadata": {
  "kernelspec": {
   "display_name": "Python 3",
   "language": "python",
   "name": "python3"
  },
  "language_info": {
   "codemirror_mode": {
    "name": "ipython",
    "version": 3
   },
   "file_extension": ".py",
   "mimetype": "text/x-python",
   "name": "python",
   "nbconvert_exporter": "python",
   "pygments_lexer": "ipython3",
   "version": "3.10.11"
  },
  "orig_nbformat": 4
 },
 "nbformat": 4,
 "nbformat_minor": 2
}
