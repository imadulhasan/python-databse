{
 "cells": [
  {
   "cell_type": "code",
   "execution_count": 5,
   "metadata": {},
   "outputs": [
    {
     "name": "stdout",
     "output_type": "stream",
     "text": [
      "15\n",
      "amazone\n"
     ]
    }
   ],
   "source": [
    "b = ['insta','watssapp','snapchat','facebook','telegram','youtube','google','chrome','pubg','netflix','amazone','snapseed','twiter','uc browser','car info']\n",
    "print(len(b))\n",
    "print(b[10])"
   ]
  },
  {
   "cell_type": "code",
   "execution_count": 7,
   "metadata": {},
   "outputs": [
    {
     "name": "stdout",
     "output_type": "stream",
     "text": [
      "['r', 'o', 'g', 'r']\n"
     ]
    }
   ],
   "source": [
    "list=['p','r','o','g','r','a','m','i','z']\n",
    "print(list[1:5])\n"
   ]
  },
  {
   "cell_type": "code",
   "execution_count": 7,
   "metadata": {},
   "outputs": [
    {
     "ename": "TypeError",
     "evalue": "unsupported operand type(s) for /: 'str' and 'int'",
     "output_type": "error",
     "traceback": [
      "\u001b[1;31m---------------------------------------------------------------------------\u001b[0m",
      "\u001b[1;31mTypeError\u001b[0m                                 Traceback (most recent call last)",
      "Cell \u001b[1;32mIn[7], line 4\u001b[0m\n\u001b[0;32m      2\u001b[0m c\u001b[39m=\u001b[39m(\u001b[39minput\u001b[39m(\u001b[39m'\u001b[39m\u001b[39menter your chemistry marks\u001b[39m\u001b[39m'\u001b[39m))\n\u001b[0;32m      3\u001b[0m m\u001b[39m=\u001b[39m(\u001b[39minput\u001b[39m(\u001b[39m'\u001b[39m\u001b[39menter your maths marks\u001b[39m\u001b[39m'\u001b[39m))\n\u001b[1;32m----> 4\u001b[0m s\u001b[39m=\u001b[39m((p\u001b[39m+\u001b[39;49mc\u001b[39m+\u001b[39;49mm)\u001b[39m/\u001b[39;49m\u001b[39m600\u001b[39;49m\u001b[39m*\u001b[39m\u001b[39m100\u001b[39m)\n\u001b[0;32m      5\u001b[0m \u001b[39mprint\u001b[39m(s)\n",
      "\u001b[1;31mTypeError\u001b[0m: unsupported operand type(s) for /: 'str' and 'int'"
     ]
    }
   ],
   "source": [
    "p=(input('enter your marks'))\n",
    "c=(input('enter your chemistry marks'))\n",
    "m=(input('enter your maths marks'))\n",
    "s=((p+c+m)/600*100)\n",
    "print(s)"
   ]
  },
  {
   "cell_type": "code",
   "execution_count": null,
   "metadata": {},
   "outputs": [],
   "source": []
  }
 ],
 "metadata": {
  "kernelspec": {
   "display_name": "Python 3",
   "language": "python",
   "name": "python3"
  },
  "language_info": {
   "codemirror_mode": {
    "name": "ipython",
    "version": 3
   },
   "file_extension": ".py",
   "mimetype": "text/x-python",
   "name": "python",
   "nbconvert_exporter": "python",
   "pygments_lexer": "ipython3",
   "version": "3.10.11"
  },
  "orig_nbformat": 4
 },
 "nbformat": 4,
 "nbformat_minor": 2
}
