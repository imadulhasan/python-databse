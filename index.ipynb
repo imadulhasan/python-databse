{
 "cells": [
  {
   "cell_type": "code",
   "execution_count": 5,
   "metadata": {},
   "outputs": [
    {
     "name": "stdout",
     "output_type": "stream",
     "text": [
      "15\n",
      "amazone\n"
     ]
    }
   ],
   "source": [
    "b = ['insta','watssapp','snapchat','facebook','telegram','youtube','google','chrome','pubg','netflix','amazone','snapseed','twiter','uc browser','car info']\n",
    "print(len(b))\n",
    "print(b[10])"
   ]
  },
  {
   "cell_type": "code",
   "execution_count": 7,
   "metadata": {},
   "outputs": [
    {
     "name": "stdout",
     "output_type": "stream",
     "text": [
      "['r', 'o', 'g', 'r']\n"
     ]
    }
   ],
   "source": [
    "list=['p','r','o','g','r','a','m','i','z']\n",
    "print(list[1:5])\n"
   ]
  },
  {
   "cell_type": "code",
   "execution_count": 10,
   "metadata": {},
   "outputs": [
    {
     "name": "stdout",
     "output_type": "stream",
     "text": [
      "59.118\n"
     ]
    }
   ],
   "source": [
    "p=int(input('enter your physics marks'))\n",
    "c=int(input('enter your chemistry marks'))\n",
    "m=int(input('enter your maths marks'))\n",
    "b=int(input('enter your biology marks'))\n",
    "u=int(input('enter your urdu marks'))\n",
    "e=int(input('enter your english marks'))\n",
    "print((p+c+m+b+u+e)/600.0*100.2)"
   ]
  },
  {
   "cell_type": "code",
   "execution_count": null,
   "metadata": {},
   "outputs": [],
   "source": []
  }
 ],
 "metadata": {
  "kernelspec": {
   "display_name": "Python 3",
   "language": "python",
   "name": "python3"
  },
  "language_info": {
   "codemirror_mode": {
    "name": "ipython",
    "version": 3
   },
   "file_extension": ".py",
   "mimetype": "text/x-python",
   "name": "python",
   "nbconvert_exporter": "python",
   "pygments_lexer": "ipython3",
   "version": "3.10.11"
  },
  "orig_nbformat": 4
 },
 "nbformat": 4,
 "nbformat_minor": 2
}
