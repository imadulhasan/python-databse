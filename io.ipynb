{
 "cells": [
  {
   "cell_type": "code",
   "execution_count": 9,
   "metadata": {},
   "outputs": [
    {
     "name": "stdout",
     "output_type": "stream",
     "text": [
      " imadul hasan\n",
      "20\n",
      "lucknow\n"
     ]
    }
   ],
   "source": [
    "name = \" imadul hasan\"\n",
    "age = 20\n",
    "city = \"lucknow\" \n",
    "\n",
    "print (name)\n",
    "print (age)\n",
    "print (city)"
   ]
  },
  {
   "cell_type": "code",
   "execution_count": 5,
   "metadata": {},
   "outputs": [
    {
     "name": "stdout",
     "output_type": "stream",
     "text": [
      "your name is fahad chutiya your are 21 yours old and you live in delhi\n"
     ]
    }
   ],
   "source": [
    "name = 'fahad chutiya'\n",
    "age  = '21'\n",
    "city = 'delhi'\n",
    "print ('your name is',name,'your are',age,'yours old and you live in',city)\n"
   ]
  },
  {
   "cell_type": "code",
   "execution_count": 29,
   "metadata": {},
   "outputs": [
    {
     "name": "stdout",
     "output_type": "stream",
     "text": [
      "hypotenuse is 18.03\n"
     ]
    }
   ],
   "source": [
    "per = 10\n",
    "base = 15   \n",
    "hyp = (per**2 + base**2)**0.5\n",
    "print ('hypotenuse is',round(hyp,2))"
   ]
  },
  {
   "cell_type": "code",
   "execution_count": 30,
   "metadata": {},
   "outputs": [
    {
     "name": "stdout",
     "output_type": "stream",
     "text": [
      "hello 15 years old boy\n"
     ]
    }
   ],
   "source": [
    "base = 15\n",
    "print(f'hello {base} years old boy')\n"
   ]
  },
  {
   "cell_type": "code",
   "execution_count": 31,
   "metadata": {},
   "outputs": [
    {
     "name": "stdout",
     "output_type": "stream",
     "text": [
      "name:imadul,age:20,city:lucknow\n"
     ]
    }
   ],
   "source": [
    "name=(input('enter your name'))\n",
    "age =(input('enter your age'))\n",
    "city=(input('enter your city'))\n",
    "print(f'name:{name},age:{age},city:{city}')"
   ]
  },
  {
   "cell_type": "code",
   "execution_count": 32,
   "metadata": {},
   "outputs": [
    {
     "name": "stdout",
     "output_type": "stream",
     "text": [
      "ans =125.7\n",
      "ans =125.6637\n"
     ]
    }
   ],
   "source": [
    "import math\n",
    "r = 20 \n",
    "circumference = 2*math.pi*r\n",
    "print (f'ans ={circumference:.1f}')\n",
    "print (f'ans ={round(circumference,4)}')"
   ]
  },
  {
   "cell_type": "code",
   "execution_count": 33,
   "metadata": {},
   "outputs": [
    {
     "data": {
      "text/plain": [
       "'imadul'"
      ]
     },
     "execution_count": 33,
     "metadata": {},
     "output_type": "execute_result"
    }
   ],
   "source": [
    "input('what is your name')"
   ]
  },
  {
   "cell_type": "code",
   "execution_count": 34,
   "metadata": {},
   "outputs": [
    {
     "name": "stdout",
     "output_type": "stream",
     "text": [
      "oh ,so your name is imadul\n"
     ]
    }
   ],
   "source": [
    "name = input ('what is your name?')\n",
    "print ( \"oh ,so your name is\",name)"
   ]
  },
  {
   "cell_type": "code",
   "execution_count": 35,
   "metadata": {},
   "outputs": [],
   "source": [
    "x = int(input('enter your number'))\n",
    "y = int(input('enter another number'))\n",
    "print(x+y)"
   ]
  },
  {
   "cell_type": "code",
   "execution_count": 1,
   "metadata": {},
   "outputs": [
    {
     "data": {
      "text/plain": [
       "100"
      ]
     },
     "execution_count": 1,
     "metadata": {},
     "output_type": "execute_result"
    }
   ],
   "source": [
    "\n",
    "\n",
    "\n",
    "\n",
    "\n",
    "\n",
    "\n",
    "int(100)"
   ]
  },
  {
   "cell_type": "code",
   "execution_count": 3,
   "metadata": {},
   "outputs": [
    {
     "data": {
      "text/plain": [
       "'50.0'"
      ]
     },
     "execution_count": 3,
     "metadata": {},
     "output_type": "execute_result"
    }
   ],
   "source": [
    "x = 50.00\n",
    "str(x)"
   ]
  },
  {
   "cell_type": "code",
   "execution_count": 2,
   "metadata": {},
   "outputs": [],
   "source": [
    "h = 'hello'"
   ]
  },
  {
   "cell_type": "code",
   "execution_count": null,
   "metadata": {},
   "outputs": [],
   "source": []
  }
 ],
 "metadata": {
  "kernelspec": {
   "display_name": "Python 3",
   "language": "python",
   "name": "python3"
  },
  "language_info": {
   "codemirror_mode": {
    "name": "ipython",
    "version": 3
   },
   "file_extension": ".py",
   "mimetype": "text/x-python",
   "name": "python",
   "nbconvert_exporter": "python",
   "pygments_lexer": "ipython3",
   "version": "3.10.11"
  },
  "orig_nbformat": 4
 },
 "nbformat": 4,
 "nbformat_minor": 2
}
